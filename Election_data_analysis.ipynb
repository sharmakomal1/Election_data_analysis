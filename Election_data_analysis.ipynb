{
 "cells": [
  {
   "cell_type": "markdown",
   "id": "1a9c2233-a59a-48ad-a1b9-f04aff288bbe",
   "metadata": {},
   "source": [
    "# Lok Sabha Election Data Analysis and Visualization"
   ]
  },
  {
   "cell_type": "markdown",
   "id": "847205d2-4527-4715-ba72-947fd6f637e1",
   "metadata": {},
   "source": [
    "1. Youngest Candidate who participated in Lok Sabha Election?\n",
    "2. Candidate with Highest number of Criminal Cases.\n",
    "3. Parties with total number of criminal cases.\n",
    "4. Education of each candidate. ? Most common education level?\n",
    "5. Different Constituency and Criminal cases count in 2014 Elections."
   ]
  },
  {
   "cell_type": "markdown",
   "id": "d5eb1f8a-a666-4083-99d5-860eb61b8758",
   "metadata": {},
   "source": [
    "# Import Required Libraries "
   ]
  },
  {
   "cell_type": "code",
   "execution_count": 9,
   "id": "43e47e36-63f5-4aef-9eba-787b2789f78c",
   "metadata": {},
   "outputs": [],
   "source": [
    "import pandas as pd\n",
    "import matplotlib.pyplot as plt\n",
    "import seaborn as sns \n",
    "%matplotlib inline"
   ]
  },
  {
   "cell_type": "markdown",
   "id": "ca659ec3-444d-4cb8-bd80-3aa7d755c064",
   "metadata": {},
   "source": [
    "# Load Dataset\n"
   ]
  },
  {
   "cell_type": "code",
   "execution_count": 10,
   "id": "be7b0781-1f46-4e42-828e-674fc478a98e",
   "metadata": {},
   "outputs": [],
   "source": [
    "candidates_2004=pd.read_csv(\"LokSabha2004.csv\")\n",
    "candidates_2009=pd.read_csv(\"LokSabha2009.csv\")\n",
    "candidates_2014=pd.read_csv(\"LokSabha2014.csv\")\n",
    "candidates_2019=pd.read_csv(\"LokSabha2019.csv\")"
   ]
  },
  {
   "cell_type": "markdown",
   "id": "b5dd529f-71e2-4738-bd68-fb499f9e568d",
   "metadata": {},
   "source": [
    "# Data contains:"
   ]
  },
  {
   "cell_type": "code",
   "execution_count": null,
   "id": "a56de9b8-faf5-4e96-9e09-42edd4b6f751",
   "metadata": {},
   "outputs": [],
   "source": [
    "Candidate - Name of the Candidate. \n",
    "Party - Policatical Party.\n",
    "Criminal Cases -Criminal Cases against candidate. \n",
    "Education - Education of candidate.\n",
    "Age - Age of candidate. \n",
    "Total Assets - Total assets of candidate. \n",
    "Constituency - Name of constituency from candidate stand in election. \n",
    "Liabilities - Total Liabilities of candidate.\n",
    "Winner - Does candidate won in election that year? (0 - No, 1- Yes)\n",
    "Gender - Gender of candidate. (M-Male, F-Female)"
   ]
  },
  {
   "cell_type": "markdown",
   "id": "16accfc6-544b-4ade-afd2-736b6ea98a26",
   "metadata": {},
   "source": [
    "### We have data file for each year. So let merge them in one file before doing that add a year column."
   ]
  },
  {
   "cell_type": "code",
   "execution_count": 11,
   "id": "7bcba5b9-7715-49b7-9534-3bba1fb6592f",
   "metadata": {},
   "outputs": [],
   "source": [
    "candidates_2004['Year']=2004\n",
    "candidates_2009['Year']=2009\n",
    "candidates_2014['Year']=2014\n",
    "candidates_2019['Year']=2019"
   ]
  },
  {
   "cell_type": "code",
   "execution_count": 12,
   "id": "7b6cafbb-7645-42c2-a81b-0e92a6a72456",
   "metadata": {},
   "outputs": [
    {
     "data": {
      "text/html": [
       "<div>\n",
       "<style scoped>\n",
       "    .dataframe tbody tr th:only-of-type {\n",
       "        vertical-align: middle;\n",
       "    }\n",
       "\n",
       "    .dataframe tbody tr th {\n",
       "        vertical-align: top;\n",
       "    }\n",
       "\n",
       "    .dataframe thead th {\n",
       "        text-align: right;\n",
       "    }\n",
       "</style>\n",
       "<table border=\"1\" class=\"dataframe\">\n",
       "  <thead>\n",
       "    <tr style=\"text-align: right;\">\n",
       "      <th></th>\n",
       "      <th>Candidate</th>\n",
       "      <th>Party</th>\n",
       "      <th>Criminal Cases</th>\n",
       "      <th>Education</th>\n",
       "      <th>Age</th>\n",
       "      <th>Total Assets</th>\n",
       "      <th>Constituency</th>\n",
       "      <th>Liabilities</th>\n",
       "      <th>Winner</th>\n",
       "      <th>Gender</th>\n",
       "      <th>Year</th>\n",
       "    </tr>\n",
       "  </thead>\n",
       "  <tbody>\n",
       "    <tr>\n",
       "      <th>0</th>\n",
       "      <td>Bishnu Pada Ray</td>\n",
       "      <td>BJP</td>\n",
       "      <td>1</td>\n",
       "      <td>Graduate</td>\n",
       "      <td>64</td>\n",
       "      <td>5658980.0</td>\n",
       "      <td>ANDAMAN AND NICOBAR ISLANDS</td>\n",
       "      <td>175115</td>\n",
       "      <td>0.0</td>\n",
       "      <td>M</td>\n",
       "      <td>2014</td>\n",
       "    </tr>\n",
       "    <tr>\n",
       "      <th>1</th>\n",
       "      <td>A Pandian</td>\n",
       "      <td>AIFB</td>\n",
       "      <td>0</td>\n",
       "      <td>12th Pass</td>\n",
       "      <td>41</td>\n",
       "      <td>859410.0</td>\n",
       "      <td>ANDAMAN AND NICOBAR ISLANDS</td>\n",
       "      <td>350000</td>\n",
       "      <td>0.0</td>\n",
       "      <td>M</td>\n",
       "      <td>2014</td>\n",
       "    </tr>\n",
       "    <tr>\n",
       "      <th>2</th>\n",
       "      <td>Anita Mondal</td>\n",
       "      <td>AITC</td>\n",
       "      <td>1</td>\n",
       "      <td>Graduate</td>\n",
       "      <td>48</td>\n",
       "      <td>5471073.0</td>\n",
       "      <td>ANDAMAN AND NICOBAR ISLANDS</td>\n",
       "      <td>6000</td>\n",
       "      <td>0.0</td>\n",
       "      <td>M</td>\n",
       "      <td>2014</td>\n",
       "    </tr>\n",
       "    <tr>\n",
       "      <th>3</th>\n",
       "      <td>C G Saji Kumar</td>\n",
       "      <td>IND</td>\n",
       "      <td>0</td>\n",
       "      <td>12th Pass</td>\n",
       "      <td>41</td>\n",
       "      <td>50000.0</td>\n",
       "      <td>ANDAMAN AND NICOBAR ISLANDS</td>\n",
       "      <td>0</td>\n",
       "      <td>0.0</td>\n",
       "      <td>M</td>\n",
       "      <td>2014</td>\n",
       "    </tr>\n",
       "    <tr>\n",
       "      <th>4</th>\n",
       "      <td>Gaur Chandra Majumder</td>\n",
       "      <td>BSP</td>\n",
       "      <td>0</td>\n",
       "      <td>Graduate</td>\n",
       "      <td>47</td>\n",
       "      <td>3192819.0</td>\n",
       "      <td>ANDAMAN AND NICOBAR ISLANDS</td>\n",
       "      <td>688689</td>\n",
       "      <td>0.0</td>\n",
       "      <td>M</td>\n",
       "      <td>2014</td>\n",
       "    </tr>\n",
       "  </tbody>\n",
       "</table>\n",
       "</div>"
      ],
      "text/plain": [
       "               Candidate Party  Criminal Cases  Education  Age  Total Assets  \\\n",
       "0        Bishnu Pada Ray   BJP               1   Graduate   64     5658980.0   \n",
       "1              A Pandian  AIFB               0  12th Pass   41      859410.0   \n",
       "2           Anita Mondal  AITC               1   Graduate   48     5471073.0   \n",
       "3         C G Saji Kumar   IND               0  12th Pass   41       50000.0   \n",
       "4  Gaur Chandra Majumder   BSP               0   Graduate   47     3192819.0   \n",
       "\n",
       "                  Constituency  Liabilities  Winner Gender  Year  \n",
       "0  ANDAMAN AND NICOBAR ISLANDS       175115     0.0      M  2014  \n",
       "1  ANDAMAN AND NICOBAR ISLANDS       350000     0.0      M  2014  \n",
       "2  ANDAMAN AND NICOBAR ISLANDS         6000     0.0      M  2014  \n",
       "3  ANDAMAN AND NICOBAR ISLANDS            0     0.0      M  2014  \n",
       "4  ANDAMAN AND NICOBAR ISLANDS       688689     0.0      M  2014  "
      ]
     },
     "execution_count": 12,
     "metadata": {},
     "output_type": "execute_result"
    }
   ],
   "source": [
    "candidates_2014.head()"
   ]
  },
  {
   "cell_type": "markdown",
   "id": "8b5c0918-035f-4ad6-882c-2b8aaa3095a4",
   "metadata": {},
   "source": [
    "### Now we have year column in each data frame. Let's merge them in one data frame using `pd.concat` method"
   ]
  },
  {
   "cell_type": "code",
   "execution_count": 13,
   "id": "9a1f0243-12d7-47d7-88a3-c1d018e971e9",
   "metadata": {},
   "outputs": [],
   "source": [
    "candidates = pd.concat([candidates_2009, candidates_2004, candidates_2014, candidates_2019])"
   ]
  },
  {
   "cell_type": "code",
   "execution_count": 14,
   "id": "5b44800e-90ac-45e0-8f5c-f4f1aca5a6ca",
   "metadata": {},
   "outputs": [
    {
     "data": {
      "text/html": [
       "<div>\n",
       "<style scoped>\n",
       "    .dataframe tbody tr th:only-of-type {\n",
       "        vertical-align: middle;\n",
       "    }\n",
       "\n",
       "    .dataframe tbody tr th {\n",
       "        vertical-align: top;\n",
       "    }\n",
       "\n",
       "    .dataframe thead th {\n",
       "        text-align: right;\n",
       "    }\n",
       "</style>\n",
       "<table border=\"1\" class=\"dataframe\">\n",
       "  <thead>\n",
       "    <tr style=\"text-align: right;\">\n",
       "      <th></th>\n",
       "      <th>Candidate</th>\n",
       "      <th>Party</th>\n",
       "      <th>Criminal Cases</th>\n",
       "      <th>Education</th>\n",
       "      <th>Age</th>\n",
       "      <th>Total Assets</th>\n",
       "      <th>Constituency</th>\n",
       "      <th>Liabilities</th>\n",
       "      <th>Winner</th>\n",
       "      <th>Gender</th>\n",
       "      <th>Year</th>\n",
       "    </tr>\n",
       "  </thead>\n",
       "  <tbody>\n",
       "    <tr>\n",
       "      <th>0</th>\n",
       "      <td>Shri Bishnu Pada Ray</td>\n",
       "      <td>BJP</td>\n",
       "      <td>1</td>\n",
       "      <td>Graduate</td>\n",
       "      <td>59</td>\n",
       "      <td>1241034.0</td>\n",
       "      <td>Andaman &amp; Nicobar Islands</td>\n",
       "      <td>0</td>\n",
       "      <td>0.0</td>\n",
       "      <td>M</td>\n",
       "      <td>2009</td>\n",
       "    </tr>\n",
       "    <tr>\n",
       "      <th>1</th>\n",
       "      <td>Shri P. R. Ganeshan</td>\n",
       "      <td>RJD</td>\n",
       "      <td>0</td>\n",
       "      <td>Not Given</td>\n",
       "      <td>71</td>\n",
       "      <td>329563.0</td>\n",
       "      <td>Andaman &amp; Nicobar Islands</td>\n",
       "      <td>0</td>\n",
       "      <td>0.0</td>\n",
       "      <td>M</td>\n",
       "      <td>2009</td>\n",
       "    </tr>\n",
       "    <tr>\n",
       "      <th>2</th>\n",
       "      <td>Shri Pradeep Kumar Ekka</td>\n",
       "      <td>JDP</td>\n",
       "      <td>0</td>\n",
       "      <td>Others</td>\n",
       "      <td>37</td>\n",
       "      <td>410000.0</td>\n",
       "      <td>Andaman &amp; Nicobar Islands</td>\n",
       "      <td>0</td>\n",
       "      <td>0.0</td>\n",
       "      <td>M</td>\n",
       "      <td>2009</td>\n",
       "    </tr>\n",
       "    <tr>\n",
       "      <th>3</th>\n",
       "      <td>Shri T. Ali</td>\n",
       "      <td>IND</td>\n",
       "      <td>0</td>\n",
       "      <td>12th Pass</td>\n",
       "      <td>37</td>\n",
       "      <td>445957.0</td>\n",
       "      <td>Andaman &amp; Nicobar Islands</td>\n",
       "      <td>296000</td>\n",
       "      <td>0.0</td>\n",
       "      <td>M</td>\n",
       "      <td>2009</td>\n",
       "    </tr>\n",
       "    <tr>\n",
       "      <th>4</th>\n",
       "      <td>Shri Tapan Kumar Bepari</td>\n",
       "      <td>CPM</td>\n",
       "      <td>0</td>\n",
       "      <td>Post Graduate</td>\n",
       "      <td>52</td>\n",
       "      <td>3986000.0</td>\n",
       "      <td>Andaman &amp; Nicobar Islands</td>\n",
       "      <td>0</td>\n",
       "      <td>0.0</td>\n",
       "      <td>M</td>\n",
       "      <td>2009</td>\n",
       "    </tr>\n",
       "  </tbody>\n",
       "</table>\n",
       "</div>"
      ],
      "text/plain": [
       "                 Candidate Party  Criminal Cases      Education  Age  \\\n",
       "0     Shri Bishnu Pada Ray   BJP               1       Graduate   59   \n",
       "1      Shri P. R. Ganeshan   RJD               0      Not Given   71   \n",
       "2  Shri Pradeep Kumar Ekka   JDP               0         Others   37   \n",
       "3              Shri T. Ali   IND               0      12th Pass   37   \n",
       "4  Shri Tapan Kumar Bepari   CPM               0  Post Graduate   52   \n",
       "\n",
       "   Total Assets               Constituency  Liabilities  Winner Gender  Year  \n",
       "0     1241034.0  Andaman & Nicobar Islands            0     0.0      M  2009  \n",
       "1      329563.0  Andaman & Nicobar Islands            0     0.0      M  2009  \n",
       "2      410000.0  Andaman & Nicobar Islands            0     0.0      M  2009  \n",
       "3      445957.0  Andaman & Nicobar Islands       296000     0.0      M  2009  \n",
       "4     3986000.0  Andaman & Nicobar Islands            0     0.0      M  2009  "
      ]
     },
     "execution_count": 14,
     "metadata": {},
     "output_type": "execute_result"
    }
   ],
   "source": [
    "candidates.head()"
   ]
  },
  {
   "cell_type": "markdown",
   "id": "46475d52-408f-440e-8a18-a1c8f06dad5d",
   "metadata": {},
   "source": [
    "### Statistics of Data"
   ]
  },
  {
   "cell_type": "code",
   "execution_count": 16,
   "id": "696114cd-fdee-423e-9101-e2bb8afce39d",
   "metadata": {},
   "outputs": [
    {
     "name": "stdout",
     "output_type": "stream",
     "text": [
      "<class 'pandas.core.frame.DataFrame'>\n",
      "Index: 28014 entries, 0 to 7967\n",
      "Data columns (total 11 columns):\n",
      " #   Column          Non-Null Count  Dtype  \n",
      "---  ------          --------------  -----  \n",
      " 0   Candidate       28014 non-null  object \n",
      " 1   Party           28014 non-null  object \n",
      " 2   Criminal Cases  28014 non-null  int64  \n",
      " 3   Education       28014 non-null  object \n",
      " 4   Age             28014 non-null  int64  \n",
      " 5   Total Assets    27199 non-null  float64\n",
      " 6   Constituency    28014 non-null  object \n",
      " 7   Liabilities     28014 non-null  int64  \n",
      " 8   Winner          28014 non-null  float64\n",
      " 9   Gender          28014 non-null  object \n",
      " 10  Year            28014 non-null  int64  \n",
      "dtypes: float64(2), int64(4), object(5)\n",
      "memory usage: 2.6+ MB\n"
     ]
    }
   ],
   "source": [
    "candidates.info()"
   ]
  },
  {
   "cell_type": "code",
   "execution_count": 17,
   "id": "8f168bb0-8e25-4949-bc08-df8e0da767fe",
   "metadata": {},
   "outputs": [
    {
     "data": {
      "text/html": [
       "<div>\n",
       "<style scoped>\n",
       "    .dataframe tbody tr th:only-of-type {\n",
       "        vertical-align: middle;\n",
       "    }\n",
       "\n",
       "    .dataframe tbody tr th {\n",
       "        vertical-align: top;\n",
       "    }\n",
       "\n",
       "    .dataframe thead th {\n",
       "        text-align: right;\n",
       "    }\n",
       "</style>\n",
       "<table border=\"1\" class=\"dataframe\">\n",
       "  <thead>\n",
       "    <tr style=\"text-align: right;\">\n",
       "      <th></th>\n",
       "      <th>Criminal Cases</th>\n",
       "      <th>Age</th>\n",
       "      <th>Total Assets</th>\n",
       "      <th>Liabilities</th>\n",
       "      <th>Winner</th>\n",
       "      <th>Year</th>\n",
       "    </tr>\n",
       "  </thead>\n",
       "  <tbody>\n",
       "    <tr>\n",
       "      <th>count</th>\n",
       "      <td>28014.000000</td>\n",
       "      <td>28014.000000</td>\n",
       "      <td>2.719900e+04</td>\n",
       "      <td>2.801400e+04</td>\n",
       "      <td>28014.000000</td>\n",
       "      <td>28014.000000</td>\n",
       "    </tr>\n",
       "    <tr>\n",
       "      <th>mean</th>\n",
       "      <td>0.483901</td>\n",
       "      <td>46.487078</td>\n",
       "      <td>3.433395e+07</td>\n",
       "      <td>3.086273e+06</td>\n",
       "      <td>0.037660</td>\n",
       "      <td>2012.708503</td>\n",
       "    </tr>\n",
       "    <tr>\n",
       "      <th>std</th>\n",
       "      <td>4.164205</td>\n",
       "      <td>12.546241</td>\n",
       "      <td>5.572976e+08</td>\n",
       "      <td>3.400576e+07</td>\n",
       "      <td>0.190375</td>\n",
       "      <td>5.050962</td>\n",
       "    </tr>\n",
       "    <tr>\n",
       "      <th>min</th>\n",
       "      <td>0.000000</td>\n",
       "      <td>0.000000</td>\n",
       "      <td>2.000000e+00</td>\n",
       "      <td>0.000000e+00</td>\n",
       "      <td>0.000000</td>\n",
       "      <td>2004.000000</td>\n",
       "    </tr>\n",
       "    <tr>\n",
       "      <th>25%</th>\n",
       "      <td>0.000000</td>\n",
       "      <td>37.000000</td>\n",
       "      <td>3.302960e+05</td>\n",
       "      <td>0.000000e+00</td>\n",
       "      <td>0.000000</td>\n",
       "      <td>2009.000000</td>\n",
       "    </tr>\n",
       "    <tr>\n",
       "      <th>50%</th>\n",
       "      <td>0.000000</td>\n",
       "      <td>46.000000</td>\n",
       "      <td>1.851000e+06</td>\n",
       "      <td>0.000000e+00</td>\n",
       "      <td>0.000000</td>\n",
       "      <td>2014.000000</td>\n",
       "    </tr>\n",
       "    <tr>\n",
       "      <th>75%</th>\n",
       "      <td>0.000000</td>\n",
       "      <td>55.000000</td>\n",
       "      <td>8.663450e+06</td>\n",
       "      <td>2.700000e+05</td>\n",
       "      <td>0.000000</td>\n",
       "      <td>2019.000000</td>\n",
       "    </tr>\n",
       "    <tr>\n",
       "      <th>max</th>\n",
       "      <td>382.000000</td>\n",
       "      <td>94.000000</td>\n",
       "      <td>7.710296e+10</td>\n",
       "      <td>2.218003e+09</td>\n",
       "      <td>1.000000</td>\n",
       "      <td>2019.000000</td>\n",
       "    </tr>\n",
       "  </tbody>\n",
       "</table>\n",
       "</div>"
      ],
      "text/plain": [
       "       Criminal Cases           Age  Total Assets   Liabilities        Winner  \\\n",
       "count    28014.000000  28014.000000  2.719900e+04  2.801400e+04  28014.000000   \n",
       "mean         0.483901     46.487078  3.433395e+07  3.086273e+06      0.037660   \n",
       "std          4.164205     12.546241  5.572976e+08  3.400576e+07      0.190375   \n",
       "min          0.000000      0.000000  2.000000e+00  0.000000e+00      0.000000   \n",
       "25%          0.000000     37.000000  3.302960e+05  0.000000e+00      0.000000   \n",
       "50%          0.000000     46.000000  1.851000e+06  0.000000e+00      0.000000   \n",
       "75%          0.000000     55.000000  8.663450e+06  2.700000e+05      0.000000   \n",
       "max        382.000000     94.000000  7.710296e+10  2.218003e+09      1.000000   \n",
       "\n",
       "               Year  \n",
       "count  28014.000000  \n",
       "mean    2012.708503  \n",
       "std        5.050962  \n",
       "min     2004.000000  \n",
       "25%     2009.000000  \n",
       "50%     2014.000000  \n",
       "75%     2019.000000  \n",
       "max     2019.000000  "
      ]
     },
     "execution_count": 17,
     "metadata": {},
     "output_type": "execute_result"
    }
   ],
   "source": [
    "candidates.describe()"
   ]
  },
  {
   "cell_type": "code",
   "execution_count": 18,
   "id": "f2bc0e25-9b64-4504-b5f2-eeba6eb29b99",
   "metadata": {},
   "outputs": [
    {
     "data": {
      "text/plain": [
       "(28014, 11)"
      ]
     },
     "execution_count": 18,
     "metadata": {},
     "output_type": "execute_result"
    }
   ],
   "source": [
    "candidates.shape"
   ]
  },
  {
   "cell_type": "markdown",
   "id": "6e3959a5-43d3-4331-9a6e-66d92dc21875",
   "metadata": {},
   "source": [
    "# Year wise Data Analysis and Visualization"
   ]
  },
  {
   "cell_type": "markdown",
   "id": "ed86d624-d07c-48c9-9c6b-26861ba5663f",
   "metadata": {},
   "source": [
    "### 1.Youngest Candidate who participated in LokSabha Election?"
   ]
  },
  {
   "cell_type": "markdown",
   "id": "cf2807d4-17a0-4a3b-9c34-13b3fd6124c0",
   "metadata": {},
   "source": [
    "#### Some entries have value lesser than 18 so I am ignoring those value because that values are false.\n"
   ]
  },
  {
   "cell_type": "code",
   "execution_count": 20,
   "id": "3ea2d0a9-efe5-41ef-ae48-55370605cc14",
   "metadata": {},
   "outputs": [],
   "source": [
    "candidate_age_2004 = candidates_2004[candidates_2004['Age'] > 18]\n",
    "candidate_age_2009 = candidates_2009[candidates_2009['Age'] > 18]\n",
    "candidate_age_2014 = candidates_2014[candidates_2014['Age'] > 18]\n",
    "candidate_age_2019 = candidates_2019[candidates_2019['Age'] > 18]\n"
   ]
  },
  {
   "cell_type": "code",
   "execution_count": 21,
   "id": "2c81e51e-5a91-4dd1-8212-1f84f3c68ee9",
   "metadata": {},
   "outputs": [
    {
     "data": {
      "text/plain": [
       "25"
      ]
     },
     "execution_count": 21,
     "metadata": {},
     "output_type": "execute_result"
    }
   ],
   "source": [
    "candidate_age_2004['Age'].min()\n"
   ]
  },
  {
   "cell_type": "code",
   "execution_count": 22,
   "id": "0dc9c477-93c1-457c-8082-f11b117f53be",
   "metadata": {},
   "outputs": [
    {
     "data": {
      "text/html": [
       "<div>\n",
       "<style scoped>\n",
       "    .dataframe tbody tr th:only-of-type {\n",
       "        vertical-align: middle;\n",
       "    }\n",
       "\n",
       "    .dataframe tbody tr th {\n",
       "        vertical-align: top;\n",
       "    }\n",
       "\n",
       "    .dataframe thead th {\n",
       "        text-align: right;\n",
       "    }\n",
       "</style>\n",
       "<table border=\"1\" class=\"dataframe\">\n",
       "  <thead>\n",
       "    <tr style=\"text-align: right;\">\n",
       "      <th></th>\n",
       "      <th>Candidate</th>\n",
       "      <th>Party</th>\n",
       "      <th>Criminal Cases</th>\n",
       "      <th>Education</th>\n",
       "      <th>Age</th>\n",
       "      <th>Total Assets</th>\n",
       "      <th>Constituency</th>\n",
       "      <th>Liabilities</th>\n",
       "      <th>Winner</th>\n",
       "      <th>Gender</th>\n",
       "      <th>Year</th>\n",
       "    </tr>\n",
       "  </thead>\n",
       "  <tbody>\n",
       "    <tr>\n",
       "      <th>393</th>\n",
       "      <td>Om Prakash Paswan</td>\n",
       "      <td>AD</td>\n",
       "      <td>0</td>\n",
       "      <td>Not Given</td>\n",
       "      <td>25</td>\n",
       "      <td>15000.0</td>\n",
       "      <td>Araria</td>\n",
       "      <td>9000</td>\n",
       "      <td>0</td>\n",
       "      <td>M</td>\n",
       "      <td>2004</td>\n",
       "    </tr>\n",
       "    <tr>\n",
       "      <th>420</th>\n",
       "      <td>Sarjoon Paswan</td>\n",
       "      <td>IND</td>\n",
       "      <td>0</td>\n",
       "      <td>Not Given</td>\n",
       "      <td>25</td>\n",
       "      <td>185000.0</td>\n",
       "      <td>Aurangabad</td>\n",
       "      <td>0</td>\n",
       "      <td>0</td>\n",
       "      <td>M</td>\n",
       "      <td>2004</td>\n",
       "    </tr>\n",
       "    <tr>\n",
       "      <th>550</th>\n",
       "      <td>Shakti Raj</td>\n",
       "      <td>BSP</td>\n",
       "      <td>0</td>\n",
       "      <td>Graduate</td>\n",
       "      <td>25</td>\n",
       "      <td>94500.0</td>\n",
       "      <td>Gaya</td>\n",
       "      <td>0</td>\n",
       "      <td>0</td>\n",
       "      <td>M</td>\n",
       "      <td>2004</td>\n",
       "    </tr>\n",
       "    <tr>\n",
       "      <th>556</th>\n",
       "      <td>Monika Tiwari</td>\n",
       "      <td>BED</td>\n",
       "      <td>0</td>\n",
       "      <td>Post Graduate</td>\n",
       "      <td>25</td>\n",
       "      <td>41000.0</td>\n",
       "      <td>Gopalganj</td>\n",
       "      <td>0</td>\n",
       "      <td>0</td>\n",
       "      <td>F</td>\n",
       "      <td>2004</td>\n",
       "    </tr>\n",
       "    <tr>\n",
       "      <th>569</th>\n",
       "      <td>Uttam Choudhary Unnat</td>\n",
       "      <td>JD(S)</td>\n",
       "      <td>0</td>\n",
       "      <td>Post Graduate</td>\n",
       "      <td>25</td>\n",
       "      <td>20000.0</td>\n",
       "      <td>Hajipur</td>\n",
       "      <td>0</td>\n",
       "      <td>0</td>\n",
       "      <td>M</td>\n",
       "      <td>2004</td>\n",
       "    </tr>\n",
       "  </tbody>\n",
       "</table>\n",
       "</div>"
      ],
      "text/plain": [
       "                 Candidate  Party  Criminal Cases      Education  Age  \\\n",
       "393      Om Prakash Paswan     AD               0      Not Given   25   \n",
       "420         Sarjoon Paswan    IND               0      Not Given   25   \n",
       "550             Shakti Raj    BSP               0       Graduate   25   \n",
       "556          Monika Tiwari    BED               0  Post Graduate   25   \n",
       "569  Uttam Choudhary Unnat  JD(S)               0  Post Graduate   25   \n",
       "\n",
       "     Total Assets Constituency  Liabilities  Winner Gender  Year  \n",
       "393       15000.0       Araria         9000       0      M  2004  \n",
       "420      185000.0   Aurangabad            0       0      M  2004  \n",
       "550       94500.0         Gaya            0       0      M  2004  \n",
       "556       41000.0    Gopalganj            0       0      F  2004  \n",
       "569       20000.0      Hajipur            0       0      M  2004  "
      ]
     },
     "execution_count": 22,
     "metadata": {},
     "output_type": "execute_result"
    }
   ],
   "source": [
    "candidate_age_2004[candidate_age_2004['Age'] == candidate_age_2004['Age'].min() ].head()\n"
   ]
  },
  {
   "cell_type": "markdown",
   "id": "e0c3b931-1842-4b75-8439-40226ce5b11a",
   "metadata": {},
   "source": [
    "#### In 2004's Lok Sabha Election,yougest candidate age was 25 years"
   ]
  },
  {
   "cell_type": "code",
   "execution_count": 23,
   "id": "d865bb71-3daa-45d2-9cda-f76c706f4dba",
   "metadata": {},
   "outputs": [
    {
     "data": {
      "text/plain": [
       "25"
      ]
     },
     "execution_count": 23,
     "metadata": {},
     "output_type": "execute_result"
    }
   ],
   "source": [
    "candidate_age_2009['Age'].min()"
   ]
  },
  {
   "cell_type": "code",
   "execution_count": 24,
   "id": "07783f9e-86e4-4a44-9831-4bd2653ca0f3",
   "metadata": {},
   "outputs": [
    {
     "data": {
      "text/html": [
       "<div>\n",
       "<style scoped>\n",
       "    .dataframe tbody tr th:only-of-type {\n",
       "        vertical-align: middle;\n",
       "    }\n",
       "\n",
       "    .dataframe tbody tr th {\n",
       "        vertical-align: top;\n",
       "    }\n",
       "\n",
       "    .dataframe thead th {\n",
       "        text-align: right;\n",
       "    }\n",
       "</style>\n",
       "<table border=\"1\" class=\"dataframe\">\n",
       "  <thead>\n",
       "    <tr style=\"text-align: right;\">\n",
       "      <th></th>\n",
       "      <th>Candidate</th>\n",
       "      <th>Party</th>\n",
       "      <th>Criminal Cases</th>\n",
       "      <th>Education</th>\n",
       "      <th>Age</th>\n",
       "      <th>Total Assets</th>\n",
       "      <th>Constituency</th>\n",
       "      <th>Liabilities</th>\n",
       "      <th>Winner</th>\n",
       "      <th>Gender</th>\n",
       "      <th>Year</th>\n",
       "    </tr>\n",
       "  </thead>\n",
       "  <tbody>\n",
       "    <tr>\n",
       "      <th>570</th>\n",
       "      <td>Taba Taku</td>\n",
       "      <td>LB</td>\n",
       "      <td>0</td>\n",
       "      <td>Graduate</td>\n",
       "      <td>25</td>\n",
       "      <td>10000.0</td>\n",
       "      <td>Arunachal West</td>\n",
       "      <td>0</td>\n",
       "      <td>0</td>\n",
       "      <td>M</td>\n",
       "      <td>2009</td>\n",
       "    </tr>\n",
       "    <tr>\n",
       "      <th>887</th>\n",
       "      <td>Binita Baitha</td>\n",
       "      <td>IND</td>\n",
       "      <td>0</td>\n",
       "      <td>Graduate</td>\n",
       "      <td>25</td>\n",
       "      <td>80000.0</td>\n",
       "      <td>Gopalganj</td>\n",
       "      <td>0</td>\n",
       "      <td>0</td>\n",
       "      <td>F</td>\n",
       "      <td>2009</td>\n",
       "    </tr>\n",
       "    <tr>\n",
       "      <th>1017</th>\n",
       "      <td>Mohammad Nissar Alam</td>\n",
       "      <td>JMM</td>\n",
       "      <td>0</td>\n",
       "      <td>8th Pass</td>\n",
       "      <td>25</td>\n",
       "      <td>206500.0</td>\n",
       "      <td>Kishanganj</td>\n",
       "      <td>45000</td>\n",
       "      <td>0</td>\n",
       "      <td>M</td>\n",
       "      <td>2009</td>\n",
       "    </tr>\n",
       "    <tr>\n",
       "      <th>1128</th>\n",
       "      <td>Kumar Rajesh</td>\n",
       "      <td>IND</td>\n",
       "      <td>0</td>\n",
       "      <td>Graduate</td>\n",
       "      <td>25</td>\n",
       "      <td>2.0</td>\n",
       "      <td>Nalanda</td>\n",
       "      <td>0</td>\n",
       "      <td>0</td>\n",
       "      <td>M</td>\n",
       "      <td>2009</td>\n",
       "    </tr>\n",
       "    <tr>\n",
       "      <th>1174</th>\n",
       "      <td>Durgesh Nandan Singh</td>\n",
       "      <td>IND</td>\n",
       "      <td>0</td>\n",
       "      <td>Graduate Professional</td>\n",
       "      <td>25</td>\n",
       "      <td>23000.0</td>\n",
       "      <td>Pataliputra</td>\n",
       "      <td>0</td>\n",
       "      <td>0</td>\n",
       "      <td>M</td>\n",
       "      <td>2009</td>\n",
       "    </tr>\n",
       "  </tbody>\n",
       "</table>\n",
       "</div>"
      ],
      "text/plain": [
       "                 Candidate Party  Criminal Cases              Education  Age  \\\n",
       "570              Taba Taku    LB               0               Graduate   25   \n",
       "887          Binita Baitha   IND               0               Graduate   25   \n",
       "1017  Mohammad Nissar Alam   JMM               0               8th Pass   25   \n",
       "1128          Kumar Rajesh   IND               0               Graduate   25   \n",
       "1174  Durgesh Nandan Singh   IND               0  Graduate Professional   25   \n",
       "\n",
       "      Total Assets    Constituency  Liabilities  Winner Gender  Year  \n",
       "570        10000.0  Arunachal West            0       0      M  2009  \n",
       "887        80000.0       Gopalganj            0       0      F  2009  \n",
       "1017      206500.0      Kishanganj        45000       0      M  2009  \n",
       "1128           2.0         Nalanda            0       0      M  2009  \n",
       "1174       23000.0     Pataliputra            0       0      M  2009  "
      ]
     },
     "execution_count": 24,
     "metadata": {},
     "output_type": "execute_result"
    }
   ],
   "source": [
    "candidate_age_2009[candidate_age_2009['Age'] == candidate_age_2009['Age'].min()].head()"
   ]
  },
  {
   "cell_type": "markdown",
   "id": "a01539ad-a09b-43a7-9541-97c9e1038672",
   "metadata": {},
   "source": [
    "#### In 2009's Lok Sabha Election,yougest candidate age was 25 years"
   ]
  },
  {
   "cell_type": "code",
   "execution_count": 25,
   "id": "5f044b77-471f-4633-b863-9b7b1340feba",
   "metadata": {},
   "outputs": [
    {
     "data": {
      "text/plain": [
       "21"
      ]
     },
     "execution_count": 25,
     "metadata": {},
     "output_type": "execute_result"
    }
   ],
   "source": [
    "candidate_age_2014['Age'].min()"
   ]
  },
  {
   "cell_type": "code",
   "execution_count": 26,
   "id": "fe127dbb-7870-4518-b23e-2eb369b35286",
   "metadata": {},
   "outputs": [
    {
     "data": {
      "text/html": [
       "<div>\n",
       "<style scoped>\n",
       "    .dataframe tbody tr th:only-of-type {\n",
       "        vertical-align: middle;\n",
       "    }\n",
       "\n",
       "    .dataframe tbody tr th {\n",
       "        vertical-align: top;\n",
       "    }\n",
       "\n",
       "    .dataframe thead th {\n",
       "        text-align: right;\n",
       "    }\n",
       "</style>\n",
       "<table border=\"1\" class=\"dataframe\">\n",
       "  <thead>\n",
       "    <tr style=\"text-align: right;\">\n",
       "      <th></th>\n",
       "      <th>Candidate</th>\n",
       "      <th>Party</th>\n",
       "      <th>Criminal Cases</th>\n",
       "      <th>Education</th>\n",
       "      <th>Age</th>\n",
       "      <th>Total Assets</th>\n",
       "      <th>Constituency</th>\n",
       "      <th>Liabilities</th>\n",
       "      <th>Winner</th>\n",
       "      <th>Gender</th>\n",
       "      <th>Year</th>\n",
       "    </tr>\n",
       "  </thead>\n",
       "  <tbody>\n",
       "    <tr>\n",
       "      <th>7242</th>\n",
       "      <td>Ravikant Yadav</td>\n",
       "      <td>IND</td>\n",
       "      <td>0</td>\n",
       "      <td>Graduate</td>\n",
       "      <td>21</td>\n",
       "      <td>1100000.0</td>\n",
       "      <td>JAUNPUR</td>\n",
       "      <td>0</td>\n",
       "      <td>0.0</td>\n",
       "      <td>M</td>\n",
       "      <td>2014</td>\n",
       "    </tr>\n",
       "  </tbody>\n",
       "</table>\n",
       "</div>"
      ],
      "text/plain": [
       "           Candidate Party  Criminal Cases Education  Age  Total Assets  \\\n",
       "7242  Ravikant Yadav   IND               0  Graduate   21     1100000.0   \n",
       "\n",
       "     Constituency  Liabilities  Winner Gender  Year  \n",
       "7242      JAUNPUR            0     0.0      M  2014  "
      ]
     },
     "execution_count": 26,
     "metadata": {},
     "output_type": "execute_result"
    }
   ],
   "source": [
    "candidate_age_2014[candidate_age_2014['Age'] == candidate_age_2014['Age'].min()].head()"
   ]
  },
  {
   "cell_type": "markdown",
   "id": "e7969eaf-1b4f-4dfd-945d-c4314b73dce4",
   "metadata": {},
   "source": [
    "#### In 2014's Lok Sabha Election,yougest candidate age was 21 years"
   ]
  },
  {
   "cell_type": "code",
   "execution_count": 27,
   "id": "831d3bc9-1607-4ced-a33f-cd55213619d3",
   "metadata": {},
   "outputs": [
    {
     "data": {
      "text/plain": [
       "24"
      ]
     },
     "execution_count": 27,
     "metadata": {},
     "output_type": "execute_result"
    }
   ],
   "source": [
    "candidate_age_2019['Age'].min()"
   ]
  },
  {
   "cell_type": "code",
   "execution_count": 28,
   "id": "cabd4913-2df6-4c4d-9a65-19525ba2a101",
   "metadata": {},
   "outputs": [
    {
     "data": {
      "text/html": [
       "<div>\n",
       "<style scoped>\n",
       "    .dataframe tbody tr th:only-of-type {\n",
       "        vertical-align: middle;\n",
       "    }\n",
       "\n",
       "    .dataframe tbody tr th {\n",
       "        vertical-align: top;\n",
       "    }\n",
       "\n",
       "    .dataframe thead th {\n",
       "        text-align: right;\n",
       "    }\n",
       "</style>\n",
       "<table border=\"1\" class=\"dataframe\">\n",
       "  <thead>\n",
       "    <tr style=\"text-align: right;\">\n",
       "      <th></th>\n",
       "      <th>Candidate</th>\n",
       "      <th>Party</th>\n",
       "      <th>Criminal Cases</th>\n",
       "      <th>Education</th>\n",
       "      <th>Age</th>\n",
       "      <th>Total Assets</th>\n",
       "      <th>Constituency</th>\n",
       "      <th>Liabilities</th>\n",
       "      <th>Winner</th>\n",
       "      <th>Gender</th>\n",
       "      <th>Year</th>\n",
       "    </tr>\n",
       "  </thead>\n",
       "  <tbody>\n",
       "    <tr>\n",
       "      <th>5774</th>\n",
       "      <td>Ponnuthai G</td>\n",
       "      <td>IND</td>\n",
       "      <td>0</td>\n",
       "      <td>12th Pass</td>\n",
       "      <td>24</td>\n",
       "      <td>118000.0</td>\n",
       "      <td>Tenkasi</td>\n",
       "      <td>0</td>\n",
       "      <td>0.0</td>\n",
       "      <td>F</td>\n",
       "      <td>2019</td>\n",
       "    </tr>\n",
       "  </tbody>\n",
       "</table>\n",
       "</div>"
      ],
      "text/plain": [
       "        Candidate Party  Criminal Cases  Education  Age  Total Assets  \\\n",
       "5774  Ponnuthai G   IND               0  12th Pass   24      118000.0   \n",
       "\n",
       "     Constituency  Liabilities  Winner Gender  Year  \n",
       "5774      Tenkasi            0     0.0      F  2019  "
      ]
     },
     "execution_count": 28,
     "metadata": {},
     "output_type": "execute_result"
    }
   ],
   "source": [
    "candidate_age_2019[candidate_age_2019['Age'] == candidate_age_2019['Age'].min()].head()"
   ]
  },
  {
   "cell_type": "markdown",
   "id": "929d43cf-71ca-484f-afdd-d7a76a35be9d",
   "metadata": {},
   "source": [
    "#### In 2019's Lok Sabha Election,yougest candidate age was 24 years"
   ]
  },
  {
   "cell_type": "markdown",
   "id": "9963a463-8d96-47ba-8337-cd4b42f2c058",
   "metadata": {},
   "source": [
    "## Ravikant Yadav is youngest candidate, 21 Age who participated in 2014 lok sabha election."
   ]
  },
  {
   "cell_type": "code",
   "execution_count": 63,
   "id": "6766032c-18a3-45a8-9cc7-3253d8ef5855",
   "metadata": {},
   "outputs": [
    {
     "name": "stderr",
     "output_type": "stream",
     "text": [
      "C:\\Users\\admin\\AppData\\Local\\Temp\\ipykernel_11232\\1554418937.py:2: FutureWarning: \n",
      "\n",
      "Passing `palette` without assigning `hue` is deprecated and will be removed in v0.14.0. Assign the `x` variable to `hue` and set `legend=False` for the same effect.\n",
      "\n",
      "  sns.countplot(x=candidate_age_2004['Age'].sort_values(),\n"
     ]
    },
    {
     "data": {
      "image/png": "[encoded data removed]",
      "text/plain": [
       "<Figure size 2000x1200 with 1 Axes>"
      ]
     },
     "metadata": {},
     "output_type": "display_data"
    }
   ],
   "source": [
    "plt.figure(figsize=(20,12))                                      # Creates a large figure\n",
    "sns.countplot(x=candidate_age_2004['Age'].sort_values(),\n",
    "palette=\"pastel\", edgecolor=(0, 0, 0), hue=None)\n",
    "plt.title(\"Candidate Age Count\", fontsize=20)                    # Adds title \n",
    "plt.xlabel('Age')                                                # Label for x-axis\n",
    "plt.ylabel('Count')                                              # Label for y-axis\n",
    "plt.xticks(fontsize=12, rotation=90)                             # Rotates x-axis tick labels vertically\n",
    "plt.show()                                                       # Displays the plot \n"
   ]
  },
  {
   "cell_type": "code",
   "execution_count": 30,
   "id": "2612239a-8f6e-4a88-9f77-ce3cd7c0cb13",
   "metadata": {},
   "outputs": [
    {
     "name": "stderr",
     "output_type": "stream",
     "text": [
      "C:\\Users\\admin\\AppData\\Local\\Temp\\ipykernel_11232\\2585123182.py:2: FutureWarning: \n",
      "\n",
      "Passing `palette` without assigning `hue` is deprecated and will be removed in v0.14.0. Assign the `x` variable to `hue` and set `legend=False` for the same effect.\n",
      "\n",
      "  sns.countplot(x=candidate_age_2009['Age'].sort_values(),\n"
     ]
    },
    {
     "data": {
      "image/png": "[encoded data removed]",
      "text/plain": [
       "<Figure size 2000x1200 with 1 Axes>"
      ]
     },
     "metadata": {},
     "output_type": "display_data"
    }
   ],
   "source": [
    "plt.figure(figsize=(20,12))                                       # Creates a large figure\n",
    "sns.countplot(x=candidate_age_2009['Age'].sort_values(),\n",
    "palette=\"pastel\", edgecolor=(0, 0, 0), hue=None)\n",
    "plt.title(\"Candidate Age Count\", fontsize=20)                     # Adds title with fontsize\n",
    "plt.xlabel('Age')                                                 # Label for x-axis\n",
    "plt.ylabel('Count')                                               # Label for y-axis  \n",
    "plt.xticks(fontsize=12, rotation=90)                              # Rotates x-axis tick labels vertically\n",
    "plt.show()                                                        # Displays the plot"
   ]
  },
  {
   "cell_type": "code",
   "execution_count": 31,
   "id": "fd8776af-228b-47f4-b99e-54eccbf5ace7",
   "metadata": {},
   "outputs": [
    {
     "name": "stderr",
     "output_type": "stream",
     "text": [
      "C:\\Users\\admin\\AppData\\Local\\Temp\\ipykernel_11232\\2663316121.py:2: FutureWarning: \n",
      "\n",
      "Passing `palette` without assigning `hue` is deprecated and will be removed in v0.14.0. Assign the `x` variable to `hue` and set `legend=False` for the same effect.\n",
      "\n",
      "  sns.countplot(x=candidate_age_2014['Age'].sort_values(),\n"
     ]
    },
    {
     "data": {
      "image/png": "[encoded data removed]",
      "text/plain": [
       "<Figure size 2000x1200 with 1 Axes>"
      ]
     },
     "metadata": {},
     "output_type": "display_data"
    }
   ],
   "source": [
    "plt.figure(figsize=(20,12))                                       # Large figure for clear visualization\n",
    "sns.countplot(x=candidate_age_2014['Age'].sort_values(),\n",
    "palette=\"pastel\", edgecolor=(0, 0, 0), hue=None)\n",
    "plt.title(\"Candidate Age Count\", fontsize=20)                    # Plot title\n",
    "plt.xlabel('Age')                                                # x-axis label\n",
    "plt.ylabel('Count')                                              # y-axis label\n",
    "plt.xticks(fontsize=12, rotation=90)                             # Rotated x-axis labels for clarity\n",
    "plt.show()                                                       # Displays the plot"
   ]
  },
  {
   "cell_type": "code",
   "execution_count": 32,
   "id": "8246a674-3f96-45d7-9cd7-d4d692f2d7f5",
   "metadata": {},
   "outputs": [
    {
     "name": "stderr",
     "output_type": "stream",
     "text": [
      "C:\\Users\\admin\\AppData\\Local\\Temp\\ipykernel_11232\\1403364606.py:2: FutureWarning: \n",
      "\n",
      "Passing `palette` without assigning `hue` is deprecated and will be removed in v0.14.0. Assign the `x` variable to `hue` and set `legend=False` for the same effect.\n",
      "\n",
      "  sns.countplot(x=candidate_age_2019['Age'].sort_values(),\n"
     ]
    },
    {
     "data": {
      "image/png": "[encoded data removed]",
      "text/plain": [
       "<Figure size 2000x1200 with 1 Axes>"
      ]
     },
     "metadata": {},
     "output_type": "display_data"
    }
   ],
   "source": [
    "plt.figure(figsize=(20,12))                                          # Creates a large figure\n",
    "sns.countplot(x=candidate_age_2019['Age'].sort_values(),\n",
    "palette=\"pastel\", edgecolor=(0, 0, 0), hue=None)\n",
    "plt.title(\"Candidate Age Count\", fontsize=20)                        # Sets the title\n",
    "plt.xlabel('Age')                                                    # Adds a label for the x-axis\n",
    "plt.ylabel('Count')                                                  # Adds a label for the y-axis\n",
    "plt.xticks(fontsize=12, rotation=90)                                 # Rotates x-axis labels\n",
    "plt.show()                                                           # Displays the plot"
   ]
  },
  {
   "cell_type": "markdown",
   "id": "21552aa9-ea93-45b9-8be9-56472edddb3c",
   "metadata": {},
   "source": [
    "####  Most Candidates: The majority of candidates were aged 35 to 50, with the highest number around 40–45 years old.\n",
    "#### Younger Participation: Fewer candidates were below 30 years old, indicating less participation from younger people.\n",
    "#### Older Participation: After 60 years, the number of candidates sharply decreases, with very few participants above 70 years.\n"
   ]
  },
  {
   "cell_type": "markdown",
   "id": "0de8ba84-29eb-4e33-8cb7-53cec286f758",
   "metadata": {},
   "source": [
    "### 2. Candidate with Highest number of Criminal Cases."
   ]
  },
  {
   "cell_type": "code",
   "execution_count": 33,
   "id": "1910d736-dc6f-457a-b456-79d41ef97f65",
   "metadata": {},
   "outputs": [
    {
     "data": {
      "text/plain": [
       "36"
      ]
     },
     "execution_count": 33,
     "metadata": {},
     "output_type": "execute_result"
    }
   ],
   "source": [
    "candidates_2004['Criminal Cases'].max()"
   ]
  },
  {
   "cell_type": "code",
   "execution_count": 34,
   "id": "75b7ef42-1f39-4827-bd7a-fed6af0a50d9",
   "metadata": {},
   "outputs": [
    {
     "data": {
      "text/html": [
       "<div>\n",
       "<style scoped>\n",
       "    .dataframe tbody tr th:only-of-type {\n",
       "        vertical-align: middle;\n",
       "    }\n",
       "\n",
       "    .dataframe tbody tr th {\n",
       "        vertical-align: top;\n",
       "    }\n",
       "\n",
       "    .dataframe thead th {\n",
       "        text-align: right;\n",
       "    }\n",
       "</style>\n",
       "<table border=\"1\" class=\"dataframe\">\n",
       "  <thead>\n",
       "    <tr style=\"text-align: right;\">\n",
       "      <th></th>\n",
       "      <th>Candidate</th>\n",
       "      <th>Party</th>\n",
       "      <th>Criminal Cases</th>\n",
       "      <th>Education</th>\n",
       "      <th>Age</th>\n",
       "      <th>Total Assets</th>\n",
       "      <th>Constituency</th>\n",
       "      <th>Liabilities</th>\n",
       "      <th>Winner</th>\n",
       "      <th>Gender</th>\n",
       "      <th>Year</th>\n",
       "    </tr>\n",
       "  </thead>\n",
       "  <tbody>\n",
       "    <tr>\n",
       "      <th>3144</th>\n",
       "      <td>Atique Ahamad</td>\n",
       "      <td>SP</td>\n",
       "      <td>36</td>\n",
       "      <td>8th Pass</td>\n",
       "      <td>41</td>\n",
       "      <td>33704071.0</td>\n",
       "      <td>Phulpur</td>\n",
       "      <td>0</td>\n",
       "      <td>0</td>\n",
       "      <td>M</td>\n",
       "      <td>2004</td>\n",
       "    </tr>\n",
       "  </tbody>\n",
       "</table>\n",
       "</div>"
      ],
      "text/plain": [
       "          Candidate Party  Criminal Cases Education  Age  Total Assets  \\\n",
       "3144  Atique Ahamad    SP              36  8th Pass   41    33704071.0   \n",
       "\n",
       "     Constituency  Liabilities  Winner Gender  Year  \n",
       "3144      Phulpur            0       0      M  2004  "
      ]
     },
     "execution_count": 34,
     "metadata": {},
     "output_type": "execute_result"
    }
   ],
   "source": [
    "candidates_2004[candidates_2004['Criminal Cases'] == candidates_2004['Criminal Cases'].max()].head()"
   ]
  },
  {
   "cell_type": "code",
   "execution_count": 35,
   "id": "734b90c3-f766-4e41-871f-8968f3e55c1f",
   "metadata": {},
   "outputs": [
    {
     "data": {
      "text/html": [
       "<div>\n",
       "<style scoped>\n",
       "    .dataframe tbody tr th:only-of-type {\n",
       "        vertical-align: middle;\n",
       "    }\n",
       "\n",
       "    .dataframe tbody tr th {\n",
       "        vertical-align: top;\n",
       "    }\n",
       "\n",
       "    .dataframe thead th {\n",
       "        text-align: right;\n",
       "    }\n",
       "</style>\n",
       "<table border=\"1\" class=\"dataframe\">\n",
       "  <thead>\n",
       "    <tr style=\"text-align: right;\">\n",
       "      <th></th>\n",
       "      <th>Candidate</th>\n",
       "      <th>Party</th>\n",
       "      <th>Criminal Cases</th>\n",
       "      <th>Education</th>\n",
       "      <th>Age</th>\n",
       "      <th>Total Assets</th>\n",
       "      <th>Constituency</th>\n",
       "      <th>Liabilities</th>\n",
       "      <th>Winner</th>\n",
       "      <th>Gender</th>\n",
       "      <th>Year</th>\n",
       "    </tr>\n",
       "  </thead>\n",
       "  <tbody>\n",
       "    <tr>\n",
       "      <th>2427</th>\n",
       "      <td>Kameshwar Baitha</td>\n",
       "      <td>JMM</td>\n",
       "      <td>46</td>\n",
       "      <td>10th Pass</td>\n",
       "      <td>56</td>\n",
       "      <td>570000.0</td>\n",
       "      <td>Palamau</td>\n",
       "      <td>0</td>\n",
       "      <td>0</td>\n",
       "      <td>M</td>\n",
       "      <td>2009</td>\n",
       "    </tr>\n",
       "  </tbody>\n",
       "</table>\n",
       "</div>"
      ],
      "text/plain": [
       "             Candidate Party  Criminal Cases  Education  Age  Total Assets  \\\n",
       "2427  Kameshwar Baitha   JMM              46  10th Pass   56      570000.0   \n",
       "\n",
       "     Constituency  Liabilities  Winner Gender  Year  \n",
       "2427      Palamau            0       0      M  2009  "
      ]
     },
     "execution_count": 35,
     "metadata": {},
     "output_type": "execute_result"
    }
   ],
   "source": [
    "candidates_2009[candidates_2009['Criminal Cases'] == candidates_2009['Criminal Cases'].max()].head()"
   ]
  },
  {
   "cell_type": "code",
   "execution_count": 36,
   "id": "5c3bac9e-d505-4921-afac-820d45420161",
   "metadata": {},
   "outputs": [
    {
     "data": {
      "text/html": [
       "<div>\n",
       "<style scoped>\n",
       "    .dataframe tbody tr th:only-of-type {\n",
       "        vertical-align: middle;\n",
       "    }\n",
       "\n",
       "    .dataframe tbody tr th {\n",
       "        vertical-align: top;\n",
       "    }\n",
       "\n",
       "    .dataframe thead th {\n",
       "        text-align: right;\n",
       "    }\n",
       "</style>\n",
       "<table border=\"1\" class=\"dataframe\">\n",
       "  <thead>\n",
       "    <tr style=\"text-align: right;\">\n",
       "      <th></th>\n",
       "      <th>Candidate</th>\n",
       "      <th>Party</th>\n",
       "      <th>Criminal Cases</th>\n",
       "      <th>Education</th>\n",
       "      <th>Age</th>\n",
       "      <th>Total Assets</th>\n",
       "      <th>Constituency</th>\n",
       "      <th>Liabilities</th>\n",
       "      <th>Winner</th>\n",
       "      <th>Gender</th>\n",
       "      <th>Year</th>\n",
       "    </tr>\n",
       "  </thead>\n",
       "  <tbody>\n",
       "    <tr>\n",
       "      <th>5714</th>\n",
       "      <td>Udayakumar S.P.</td>\n",
       "      <td>AAP</td>\n",
       "      <td>382</td>\n",
       "      <td>Doctorate</td>\n",
       "      <td>54</td>\n",
       "      <td>52080000.0</td>\n",
       "      <td>KANNIYAKUMARI</td>\n",
       "      <td>297000</td>\n",
       "      <td>0.0</td>\n",
       "      <td>M</td>\n",
       "      <td>2014</td>\n",
       "    </tr>\n",
       "  </tbody>\n",
       "</table>\n",
       "</div>"
      ],
      "text/plain": [
       "            Candidate Party  Criminal Cases  Education  Age  Total Assets  \\\n",
       "5714  Udayakumar S.P.   AAP             382  Doctorate   54    52080000.0   \n",
       "\n",
       "       Constituency  Liabilities  Winner Gender  Year  \n",
       "5714  KANNIYAKUMARI       297000     0.0      M  2014  "
      ]
     },
     "execution_count": 36,
     "metadata": {},
     "output_type": "execute_result"
    }
   ],
   "source": [
    "candidates_2014[candidates_2014['Criminal Cases'] == candidates_2014['Criminal Cases'].max()].head()"
   ]
  },
  {
   "cell_type": "code",
   "execution_count": 37,
   "id": "747fdcfa-7264-47f4-beb4-b04c4bf41565",
   "metadata": {},
   "outputs": [
    {
     "data": {
      "text/html": [
       "<div>\n",
       "<style scoped>\n",
       "    .dataframe tbody tr th:only-of-type {\n",
       "        vertical-align: middle;\n",
       "    }\n",
       "\n",
       "    .dataframe tbody tr th {\n",
       "        vertical-align: top;\n",
       "    }\n",
       "\n",
       "    .dataframe thead th {\n",
       "        text-align: right;\n",
       "    }\n",
       "</style>\n",
       "<table border=\"1\" class=\"dataframe\">\n",
       "  <thead>\n",
       "    <tr style=\"text-align: right;\">\n",
       "      <th></th>\n",
       "      <th>Candidate</th>\n",
       "      <th>Party</th>\n",
       "      <th>Criminal Cases</th>\n",
       "      <th>Education</th>\n",
       "      <th>Age</th>\n",
       "      <th>Total Assets</th>\n",
       "      <th>Constituency</th>\n",
       "      <th>Liabilities</th>\n",
       "      <th>Winner</th>\n",
       "      <th>Gender</th>\n",
       "      <th>Year</th>\n",
       "    </tr>\n",
       "  </thead>\n",
       "  <tbody>\n",
       "    <tr>\n",
       "      <th>2908</th>\n",
       "      <td>K Surendran</td>\n",
       "      <td>BJP</td>\n",
       "      <td>240</td>\n",
       "      <td>Graduate</td>\n",
       "      <td>49</td>\n",
       "      <td>4044300.0</td>\n",
       "      <td>Pathanamthitta</td>\n",
       "      <td>1308799</td>\n",
       "      <td>0.0</td>\n",
       "      <td>M</td>\n",
       "      <td>2019</td>\n",
       "    </tr>\n",
       "  </tbody>\n",
       "</table>\n",
       "</div>"
      ],
      "text/plain": [
       "        Candidate Party  Criminal Cases Education  Age  Total Assets  \\\n",
       "2908  K Surendran   BJP             240  Graduate   49     4044300.0   \n",
       "\n",
       "        Constituency  Liabilities  Winner Gender  Year  \n",
       "2908  Pathanamthitta      1308799     0.0      M  2019  "
      ]
     },
     "execution_count": 37,
     "metadata": {},
     "output_type": "execute_result"
    }
   ],
   "source": [
    "candidates_2019[candidates_2019['Criminal Cases'] == candidates_2019['Criminal Cases'].max()].head()"
   ]
  },
  {
   "cell_type": "code",
   "execution_count": 38,
   "id": "206e2992-8b7f-4880-94ab-f10ece730b1e",
   "metadata": {},
   "outputs": [
    {
     "data": {
      "text/html": [
       "<div>\n",
       "<style scoped>\n",
       "    .dataframe tbody tr th:only-of-type {\n",
       "        vertical-align: middle;\n",
       "    }\n",
       "\n",
       "    .dataframe tbody tr th {\n",
       "        vertical-align: top;\n",
       "    }\n",
       "\n",
       "    .dataframe thead th {\n",
       "        text-align: right;\n",
       "    }\n",
       "</style>\n",
       "<table border=\"1\" class=\"dataframe\">\n",
       "  <thead>\n",
       "    <tr style=\"text-align: right;\">\n",
       "      <th></th>\n",
       "      <th>Candidate</th>\n",
       "      <th>Party</th>\n",
       "      <th>Criminal Cases</th>\n",
       "      <th>Education</th>\n",
       "      <th>Age</th>\n",
       "      <th>Total Assets</th>\n",
       "      <th>Constituency</th>\n",
       "      <th>Liabilities</th>\n",
       "      <th>Winner</th>\n",
       "      <th>Gender</th>\n",
       "      <th>Year</th>\n",
       "    </tr>\n",
       "  </thead>\n",
       "  <tbody>\n",
       "    <tr>\n",
       "      <th>5714</th>\n",
       "      <td>Udayakumar S.P.</td>\n",
       "      <td>AAP</td>\n",
       "      <td>382</td>\n",
       "      <td>Doctorate</td>\n",
       "      <td>54</td>\n",
       "      <td>52080000.0</td>\n",
       "      <td>KANNIYAKUMARI</td>\n",
       "      <td>297000</td>\n",
       "      <td>0.0</td>\n",
       "      <td>M</td>\n",
       "      <td>2014</td>\n",
       "    </tr>\n",
       "    <tr>\n",
       "      <th>6056</th>\n",
       "      <td>M.Pushparayan</td>\n",
       "      <td>AAP</td>\n",
       "      <td>380</td>\n",
       "      <td>Post Graduate</td>\n",
       "      <td>46</td>\n",
       "      <td>8775806.0</td>\n",
       "      <td>THOOTHUKKUDI</td>\n",
       "      <td>0</td>\n",
       "      <td>0.0</td>\n",
       "      <td>M</td>\n",
       "      <td>2014</td>\n",
       "    </tr>\n",
       "    <tr>\n",
       "      <th>2908</th>\n",
       "      <td>K Surendran</td>\n",
       "      <td>BJP</td>\n",
       "      <td>240</td>\n",
       "      <td>Graduate</td>\n",
       "      <td>49</td>\n",
       "      <td>4044300.0</td>\n",
       "      <td>Pathanamthitta</td>\n",
       "      <td>1308799</td>\n",
       "      <td>0.0</td>\n",
       "      <td>M</td>\n",
       "      <td>2019</td>\n",
       "    </tr>\n",
       "    <tr>\n",
       "      <th>2818</th>\n",
       "      <td>Dean Kuriakose</td>\n",
       "      <td>INC</td>\n",
       "      <td>204</td>\n",
       "      <td>Post Graduate</td>\n",
       "      <td>37</td>\n",
       "      <td>13395011.0</td>\n",
       "      <td>Idukki</td>\n",
       "      <td>10000000</td>\n",
       "      <td>0.0</td>\n",
       "      <td>M</td>\n",
       "      <td>2019</td>\n",
       "    </tr>\n",
       "    <tr>\n",
       "      <th>7432</th>\n",
       "      <td>Ateek Ahmad</td>\n",
       "      <td>IND</td>\n",
       "      <td>59</td>\n",
       "      <td>8th Pass</td>\n",
       "      <td>54</td>\n",
       "      <td>255020529.0</td>\n",
       "      <td>Varanasi</td>\n",
       "      <td>0</td>\n",
       "      <td>0.0</td>\n",
       "      <td>M</td>\n",
       "      <td>2019</td>\n",
       "    </tr>\n",
       "  </tbody>\n",
       "</table>\n",
       "</div>"
      ],
      "text/plain": [
       "            Candidate Party  Criminal Cases      Education  Age  Total Assets  \\\n",
       "5714  Udayakumar S.P.   AAP             382      Doctorate   54    52080000.0   \n",
       "6056    M.Pushparayan   AAP             380  Post Graduate   46     8775806.0   \n",
       "2908      K Surendran   BJP             240       Graduate   49     4044300.0   \n",
       "2818   Dean Kuriakose   INC             204  Post Graduate   37    13395011.0   \n",
       "7432      Ateek Ahmad   IND              59       8th Pass   54   255020529.0   \n",
       "\n",
       "        Constituency  Liabilities  Winner Gender  Year  \n",
       "5714   KANNIYAKUMARI       297000     0.0      M  2014  \n",
       "6056    THOOTHUKKUDI            0     0.0      M  2014  \n",
       "2908  Pathanamthitta      1308799     0.0      M  2019  \n",
       "2818          Idukki     10000000     0.0      M  2019  \n",
       "7432        Varanasi            0     0.0      M  2019  "
      ]
     },
     "execution_count": 38,
     "metadata": {},
     "output_type": "execute_result"
    }
   ],
   "source": [
    "candidates.sort_values(by = 'Criminal Cases', ascending=False).head()\n"
   ]
  },
  {
   "cell_type": "code",
   "execution_count": 39,
   "id": "21fc6100-512b-4a5c-abca-f122be7dfdc7",
   "metadata": {},
   "outputs": [
    {
     "data": {
      "text/html": [
       "<style type=\"text/css\">\n",
       "#T_d0dad_row0_col2 {\n",
       "  background-color: #004529;\n",
       "  color: #f1f1f1;\n",
       "}\n",
       "#T_d0dad_row1_col2 {\n",
       "  background-color: #004629;\n",
       "  color: #f1f1f1;\n",
       "}\n",
       "#T_d0dad_row2_col2 {\n",
       "  background-color: #5db96b;\n",
       "  color: #f1f1f1;\n",
       "}\n",
       "#T_d0dad_row3_col2 {\n",
       "  background-color: #8ed082;\n",
       "  color: #000000;\n",
       "}\n",
       "#T_d0dad_row4_col2 {\n",
       "  background-color: #ffffe5;\n",
       "  color: #000000;\n",
       "}\n",
       "</style>\n",
       "<table id=\"T_d0dad\">\n",
       "  <thead>\n",
       "    <tr>\n",
       "      <th class=\"blank level0\" >&nbsp;</th>\n",
       "      <th id=\"T_d0dad_level0_col0\" class=\"col_heading level0 col0\" >Candidate</th>\n",
       "      <th id=\"T_d0dad_level0_col1\" class=\"col_heading level0 col1\" >Party</th>\n",
       "      <th id=\"T_d0dad_level0_col2\" class=\"col_heading level0 col2\" >Criminal Cases</th>\n",
       "      <th id=\"T_d0dad_level0_col3\" class=\"col_heading level0 col3\" >Education</th>\n",
       "      <th id=\"T_d0dad_level0_col4\" class=\"col_heading level0 col4\" >Age</th>\n",
       "      <th id=\"T_d0dad_level0_col5\" class=\"col_heading level0 col5\" >Total Assets</th>\n",
       "      <th id=\"T_d0dad_level0_col6\" class=\"col_heading level0 col6\" >Constituency</th>\n",
       "      <th id=\"T_d0dad_level0_col7\" class=\"col_heading level0 col7\" >Liabilities</th>\n",
       "      <th id=\"T_d0dad_level0_col8\" class=\"col_heading level0 col8\" >Winner</th>\n",
       "      <th id=\"T_d0dad_level0_col9\" class=\"col_heading level0 col9\" >Gender</th>\n",
       "      <th id=\"T_d0dad_level0_col10\" class=\"col_heading level0 col10\" >Year</th>\n",
       "    </tr>\n",
       "  </thead>\n",
       "  <tbody>\n",
       "    <tr>\n",
       "      <th id=\"T_d0dad_level0_row0\" class=\"row_heading level0 row0\" >5714</th>\n",
       "      <td id=\"T_d0dad_row0_col0\" class=\"data row0 col0\" >Udayakumar S.P.</td>\n",
       "      <td id=\"T_d0dad_row0_col1\" class=\"data row0 col1\" >AAP</td>\n",
       "      <td id=\"T_d0dad_row0_col2\" class=\"data row0 col2\" >382</td>\n",
       "      <td id=\"T_d0dad_row0_col3\" class=\"data row0 col3\" >Doctorate</td>\n",
       "      <td id=\"T_d0dad_row0_col4\" class=\"data row0 col4\" >54</td>\n",
       "      <td id=\"T_d0dad_row0_col5\" class=\"data row0 col5\" >52080000.000000</td>\n",
       "      <td id=\"T_d0dad_row0_col6\" class=\"data row0 col6\" >KANNIYAKUMARI</td>\n",
       "      <td id=\"T_d0dad_row0_col7\" class=\"data row0 col7\" >297000</td>\n",
       "      <td id=\"T_d0dad_row0_col8\" class=\"data row0 col8\" >0.000000</td>\n",
       "      <td id=\"T_d0dad_row0_col9\" class=\"data row0 col9\" >M</td>\n",
       "      <td id=\"T_d0dad_row0_col10\" class=\"data row0 col10\" >2014</td>\n",
       "    </tr>\n",
       "    <tr>\n",
       "      <th id=\"T_d0dad_level0_row1\" class=\"row_heading level0 row1\" >6056</th>\n",
       "      <td id=\"T_d0dad_row1_col0\" class=\"data row1 col0\" >M.Pushparayan</td>\n",
       "      <td id=\"T_d0dad_row1_col1\" class=\"data row1 col1\" >AAP</td>\n",
       "      <td id=\"T_d0dad_row1_col2\" class=\"data row1 col2\" >380</td>\n",
       "      <td id=\"T_d0dad_row1_col3\" class=\"data row1 col3\" >Post Graduate</td>\n",
       "      <td id=\"T_d0dad_row1_col4\" class=\"data row1 col4\" >46</td>\n",
       "      <td id=\"T_d0dad_row1_col5\" class=\"data row1 col5\" >8775806.000000</td>\n",
       "      <td id=\"T_d0dad_row1_col6\" class=\"data row1 col6\" >THOOTHUKKUDI</td>\n",
       "      <td id=\"T_d0dad_row1_col7\" class=\"data row1 col7\" >0</td>\n",
       "      <td id=\"T_d0dad_row1_col8\" class=\"data row1 col8\" >0.000000</td>\n",
       "      <td id=\"T_d0dad_row1_col9\" class=\"data row1 col9\" >M</td>\n",
       "      <td id=\"T_d0dad_row1_col10\" class=\"data row1 col10\" >2014</td>\n",
       "    </tr>\n",
       "    <tr>\n",
       "      <th id=\"T_d0dad_level0_row2\" class=\"row_heading level0 row2\" >2908</th>\n",
       "      <td id=\"T_d0dad_row2_col0\" class=\"data row2 col0\" >K Surendran</td>\n",
       "      <td id=\"T_d0dad_row2_col1\" class=\"data row2 col1\" >BJP</td>\n",
       "      <td id=\"T_d0dad_row2_col2\" class=\"data row2 col2\" >240</td>\n",
       "      <td id=\"T_d0dad_row2_col3\" class=\"data row2 col3\" >Graduate</td>\n",
       "      <td id=\"T_d0dad_row2_col4\" class=\"data row2 col4\" >49</td>\n",
       "      <td id=\"T_d0dad_row2_col5\" class=\"data row2 col5\" >4044300.000000</td>\n",
       "      <td id=\"T_d0dad_row2_col6\" class=\"data row2 col6\" >Pathanamthitta</td>\n",
       "      <td id=\"T_d0dad_row2_col7\" class=\"data row2 col7\" >1308799</td>\n",
       "      <td id=\"T_d0dad_row2_col8\" class=\"data row2 col8\" >0.000000</td>\n",
       "      <td id=\"T_d0dad_row2_col9\" class=\"data row2 col9\" >M</td>\n",
       "      <td id=\"T_d0dad_row2_col10\" class=\"data row2 col10\" >2019</td>\n",
       "    </tr>\n",
       "    <tr>\n",
       "      <th id=\"T_d0dad_level0_row3\" class=\"row_heading level0 row3\" >2818</th>\n",
       "      <td id=\"T_d0dad_row3_col0\" class=\"data row3 col0\" >Dean Kuriakose</td>\n",
       "      <td id=\"T_d0dad_row3_col1\" class=\"data row3 col1\" >INC</td>\n",
       "      <td id=\"T_d0dad_row3_col2\" class=\"data row3 col2\" >204</td>\n",
       "      <td id=\"T_d0dad_row3_col3\" class=\"data row3 col3\" >Post Graduate</td>\n",
       "      <td id=\"T_d0dad_row3_col4\" class=\"data row3 col4\" >37</td>\n",
       "      <td id=\"T_d0dad_row3_col5\" class=\"data row3 col5\" >13395011.000000</td>\n",
       "      <td id=\"T_d0dad_row3_col6\" class=\"data row3 col6\" >Idukki</td>\n",
       "      <td id=\"T_d0dad_row3_col7\" class=\"data row3 col7\" >10000000</td>\n",
       "      <td id=\"T_d0dad_row3_col8\" class=\"data row3 col8\" >0.000000</td>\n",
       "      <td id=\"T_d0dad_row3_col9\" class=\"data row3 col9\" >M</td>\n",
       "      <td id=\"T_d0dad_row3_col10\" class=\"data row3 col10\" >2019</td>\n",
       "    </tr>\n",
       "    <tr>\n",
       "      <th id=\"T_d0dad_level0_row4\" class=\"row_heading level0 row4\" >7432</th>\n",
       "      <td id=\"T_d0dad_row4_col0\" class=\"data row4 col0\" >Ateek Ahmad</td>\n",
       "      <td id=\"T_d0dad_row4_col1\" class=\"data row4 col1\" >IND</td>\n",
       "      <td id=\"T_d0dad_row4_col2\" class=\"data row4 col2\" >59</td>\n",
       "      <td id=\"T_d0dad_row4_col3\" class=\"data row4 col3\" >8th Pass</td>\n",
       "      <td id=\"T_d0dad_row4_col4\" class=\"data row4 col4\" >54</td>\n",
       "      <td id=\"T_d0dad_row4_col5\" class=\"data row4 col5\" >255020529.000000</td>\n",
       "      <td id=\"T_d0dad_row4_col6\" class=\"data row4 col6\" >Varanasi</td>\n",
       "      <td id=\"T_d0dad_row4_col7\" class=\"data row4 col7\" >0</td>\n",
       "      <td id=\"T_d0dad_row4_col8\" class=\"data row4 col8\" >0.000000</td>\n",
       "      <td id=\"T_d0dad_row4_col9\" class=\"data row4 col9\" >M</td>\n",
       "      <td id=\"T_d0dad_row4_col10\" class=\"data row4 col10\" >2019</td>\n",
       "    </tr>\n",
       "  </tbody>\n",
       "</table>\n"
      ],
      "text/plain": [
       "<pandas.io.formats.style.Styler at 0x21bbffd2300>"
      ]
     },
     "execution_count": 39,
     "metadata": {},
     "output_type": "execute_result"
    }
   ],
   "source": [
    "candidates.sort_values(['Criminal Cases'],ascending=False).head().style.background_gradient(subset = ['Criminal Cases'], cmap = 'YlGn')\n"
   ]
  },
  {
   "cell_type": "markdown",
   "id": "7333d185-5a10-49cd-9f48-d68fbac8acf6",
   "metadata": {},
   "source": [
    "### Candidate Udayakumar S.p. has highest numberof criminal cases which are 382.\n"
   ]
  },
  {
   "cell_type": "code",
   "execution_count": 46,
   "id": "9aad3709-a4fd-4cae-a3ab-b414064d5a83",
   "metadata": {},
   "outputs": [],
   "source": [
    "party_criminal_cases = candidates.groupby('Party')['Criminal Cases'].sum().reset_index()"
   ]
  },
  {
   "cell_type": "code",
   "execution_count": 47,
   "id": "8d670be5-a0cf-4c80-b5c2-7f47fda701ad",
   "metadata": {},
   "outputs": [],
   "source": [
    "party_criminal_cases_sorted = party_criminal_cases.sort_values(by='Criminal Cases', ascending=False)\n"
   ]
  },
  {
   "cell_type": "markdown",
   "id": "d130316a-4872-41d1-a790-9def8f824928",
   "metadata": {},
   "source": [
    "### Parties with total number of criminal cases"
   ]
  },
  {
   "cell_type": "code",
   "execution_count": 50,
   "id": "013e7f03-423d-462d-82b1-29ae331aed38",
   "metadata": {},
   "outputs": [
    {
     "data": {
      "text/html": [
       "<div>\n",
       "<style scoped>\n",
       "    .dataframe tbody tr th:only-of-type {\n",
       "        vertical-align: middle;\n",
       "    }\n",
       "\n",
       "    .dataframe tbody tr th {\n",
       "        vertical-align: top;\n",
       "    }\n",
       "\n",
       "    .dataframe thead th {\n",
       "        text-align: right;\n",
       "    }\n",
       "</style>\n",
       "<table border=\"1\" class=\"dataframe\">\n",
       "  <thead>\n",
       "    <tr style=\"text-align: right;\">\n",
       "      <th></th>\n",
       "      <th>Party</th>\n",
       "      <th>Criminal Cases</th>\n",
       "    </tr>\n",
       "  </thead>\n",
       "  <tbody>\n",
       "    <tr>\n",
       "      <th>479</th>\n",
       "      <td>IND</td>\n",
       "      <td>2601</td>\n",
       "    </tr>\n",
       "    <tr>\n",
       "      <th>186</th>\n",
       "      <td>BJP</td>\n",
       "      <td>1839</td>\n",
       "    </tr>\n",
       "    <tr>\n",
       "      <th>478</th>\n",
       "      <td>INC</td>\n",
       "      <td>1439</td>\n",
       "    </tr>\n",
       "    <tr>\n",
       "      <th>1</th>\n",
       "      <td>AAP</td>\n",
       "      <td>928</td>\n",
       "    </tr>\n",
       "    <tr>\n",
       "      <th>224</th>\n",
       "      <td>BSP</td>\n",
       "      <td>922</td>\n",
       "    </tr>\n",
       "  </tbody>\n",
       "</table>\n",
       "</div>"
      ],
      "text/plain": [
       "    Party  Criminal Cases\n",
       "479   IND            2601\n",
       "186   BJP            1839\n",
       "478   INC            1439\n",
       "1     AAP             928\n",
       "224   BSP             922"
      ]
     },
     "execution_count": 50,
     "metadata": {},
     "output_type": "execute_result"
    }
   ],
   "source": [
    "party_criminal_cases_sorted.head()"
   ]
  },
  {
   "cell_type": "markdown",
   "id": "653fa50a-2a17-4be8-ba01-415b5befe201",
   "metadata": {},
   "source": [
    "### 3.Number of candidate participated from each Party since 2004."
   ]
  },
  {
   "cell_type": "code",
   "execution_count": 41,
   "id": "99e25aa1-9f15-42ea-9785-c436f4c19941",
   "metadata": {},
   "outputs": [
    {
     "name": "stderr",
     "output_type": "stream",
     "text": [
      "C:\\Users\\admin\\AppData\\Local\\Temp\\ipykernel_11232\\2447451609.py:3: FutureWarning: \n",
      "\n",
      "Passing `palette` without assigning `hue` is deprecated and will be removed in v0.14.0. Assign the `y` variable to `hue` and set `legend=False` for the same effect.\n",
      "\n",
      "  sns.barplot(\n"
     ]
    },
    {
     "data": {
      "image/png": "[encoded data removed]",
      "text/plain": [
       "<Figure size 640x480 with 1 Axes>"
      ]
     },
     "metadata": {},
     "output_type": "display_data"
    }
   ],
   "source": [
    "\n",
    "loc =candidates[\"Party\"].value_counts()\n",
    "sns.set(style=\"whitegrid\")\n",
    "sns.barplot(\n",
    "    x=loc[:10],\n",
    "    y=loc[:10].index,\n",
    "    palette=\"pastel\"\n",
    ")\n",
    "plt.xticks(rotation=90)\n",
    "plt.ylabel('Party')\n",
    "plt.xlabel('Candidate Count')\n",
    "plt.title(\"Different Political Party and Candidate Count\", fontweight=\"bold\")\n",
    "plt.show()\n"
   ]
  },
  {
   "cell_type": "markdown",
   "id": "e33942f1-9f73-4dfc-a0ba-19652e422961",
   "metadata": {},
   "source": [
    "### 4.Education of each candidate.\n"
   ]
  },
  {
   "cell_type": "code",
   "execution_count": 58,
   "id": "d2fcf798-fd6a-4aa5-ab33-01af545c5a6b",
   "metadata": {},
   "outputs": [
    {
     "data": {
      "text/html": [
       "<div>\n",
       "<style scoped>\n",
       "    .dataframe tbody tr th:only-of-type {\n",
       "        vertical-align: middle;\n",
       "    }\n",
       "\n",
       "    .dataframe tbody tr th {\n",
       "        vertical-align: top;\n",
       "    }\n",
       "\n",
       "    .dataframe thead th {\n",
       "        text-align: right;\n",
       "    }\n",
       "</style>\n",
       "<table border=\"1\" class=\"dataframe\">\n",
       "  <thead>\n",
       "    <tr style=\"text-align: right;\">\n",
       "      <th></th>\n",
       "      <th>Candidate</th>\n",
       "      <th>Education</th>\n",
       "    </tr>\n",
       "  </thead>\n",
       "  <tbody>\n",
       "    <tr>\n",
       "      <th>0</th>\n",
       "      <td>Shri Bishnu Pada Ray</td>\n",
       "      <td>Graduate</td>\n",
       "    </tr>\n",
       "    <tr>\n",
       "      <th>1</th>\n",
       "      <td>Shri P. R. Ganeshan</td>\n",
       "      <td>Not Given</td>\n",
       "    </tr>\n",
       "    <tr>\n",
       "      <th>2</th>\n",
       "      <td>Shri Pradeep Kumar Ekka</td>\n",
       "      <td>Others</td>\n",
       "    </tr>\n",
       "    <tr>\n",
       "      <th>3</th>\n",
       "      <td>Shri T. Ali</td>\n",
       "      <td>12th Pass</td>\n",
       "    </tr>\n",
       "    <tr>\n",
       "      <th>4</th>\n",
       "      <td>Shri Tapan Kumar Bepari</td>\n",
       "      <td>Post Graduate</td>\n",
       "    </tr>\n",
       "    <tr>\n",
       "      <th>5</th>\n",
       "      <td>Shri Vakiath Valappil Khalid</td>\n",
       "      <td>8th Pass</td>\n",
       "    </tr>\n",
       "    <tr>\n",
       "      <th>6</th>\n",
       "      <td>Shri. Kuldeep Rai Sharma</td>\n",
       "      <td>Graduate Professional</td>\n",
       "    </tr>\n",
       "    <tr>\n",
       "      <th>7</th>\n",
       "      <td>Shri. M. S. Mohan</td>\n",
       "      <td>10th Pass</td>\n",
       "    </tr>\n",
       "    <tr>\n",
       "      <th>8</th>\n",
       "      <td>Shri. N. K. P. Nair</td>\n",
       "      <td>10th Pass</td>\n",
       "    </tr>\n",
       "    <tr>\n",
       "      <th>9</th>\n",
       "      <td>Smti. R. S. Uma Bharathy</td>\n",
       "      <td>Graduate</td>\n",
       "    </tr>\n",
       "  </tbody>\n",
       "</table>\n",
       "</div>"
      ],
      "text/plain": [
       "                      Candidate              Education\n",
       "0          Shri Bishnu Pada Ray               Graduate\n",
       "1           Shri P. R. Ganeshan              Not Given\n",
       "2       Shri Pradeep Kumar Ekka                 Others\n",
       "3                   Shri T. Ali              12th Pass\n",
       "4       Shri Tapan Kumar Bepari          Post Graduate\n",
       "5  Shri Vakiath Valappil Khalid               8th Pass\n",
       "6      Shri. Kuldeep Rai Sharma  Graduate Professional\n",
       "7             Shri. M. S. Mohan              10th Pass\n",
       "8           Shri. N. K. P. Nair              10th Pass\n",
       "9      Smti. R. S. Uma Bharathy               Graduate"
      ]
     },
     "execution_count": 58,
     "metadata": {},
     "output_type": "execute_result"
    }
   ],
   "source": [
    "candidates[['Candidate','Education']].head(10)"
   ]
  },
  {
   "cell_type": "code",
   "execution_count": 42,
   "id": "b39f990c-569e-448d-a71c-56de5bdf7e58",
   "metadata": {},
   "outputs": [
    {
     "data": {
      "text/plain": [
       "Education\n",
       "Graduate                 5305\n",
       "Post Graduate            4606\n",
       "10th Pass                4082\n",
       "12th Pass                3773\n",
       "Graduate Professional    2715\n",
       "8th Pass                 2150\n",
       "Not Given                1276\n",
       "Literate                 1181\n",
       "5th Pass                 1167\n",
       "Others                    709\n",
       "Doctorate                 672\n",
       "Illiterate                378\n",
       "Name: count, dtype: int64"
      ]
     },
     "execution_count": 42,
     "metadata": {},
     "output_type": "execute_result"
    }
   ],
   "source": [
    "candidates['Education'].value_counts() "
   ]
  },
  {
   "cell_type": "code",
   "execution_count": 43,
   "id": "75adc308-f8bd-4e62-a96f-e379e205c5f9",
   "metadata": {},
   "outputs": [
    {
     "data": {
      "image/png": "[encoded data removed]",
      "text/plain": [
       "<Figure size 2000x1200 with 1 Axes>"
      ]
     },
     "metadata": {},
     "output_type": "display_data"
    }
   ],
   "source": [
    "candidates['Education'].value_counts().plot(kind='barh',figsize=(20,12))\n",
    "plt.xlabel(\"no. of candidates\",fontsize =18)\n",
    "plt.ylabel(\"qualificaton\", fontsize =18)\n",
    "plt.xticks(fontsize=17,rotation=90)\n",
    "plt.show()\n"
   ]
  },
  {
   "cell_type": "markdown",
   "id": "5dedc3f0-f8bc-4d56-9210-ba0531d6eaa2",
   "metadata": {},
   "source": [
    "## Most comman education level is Graduation."
   ]
  },
  {
   "cell_type": "code",
   "execution_count": 44,
   "id": "c1bba29d-88a0-44be-9196-3f67275526b7",
   "metadata": {},
   "outputs": [
    {
     "name": "stderr",
     "output_type": "stream",
     "text": [
      "C:\\Users\\admin\\AppData\\Local\\Temp\\ipykernel_11232\\1293168691.py:2: FutureWarning: \n",
      "\n",
      "Passing `palette` without assigning `hue` is deprecated and will be removed in v0.14.0. Assign the `y` variable to `hue` and set `legend=False` for the same effect.\n",
      "\n",
      "  sns.countplot(candidates['Education'].sort_values(), palette =\"pastel\", edgecolor=(0,0,0))\n"
     ]
    },
    {
     "data": {
      "image/png": "[encoded data removed]",
      "text/plain": [
       "<Figure size 2000x1200 with 1 Axes>"
      ]
     },
     "metadata": {},
     "output_type": "display_data"
    }
   ],
   "source": [
    "plt.figure(figsize=(20,12))\n",
    "sns.countplot(candidates['Education'].sort_values(), palette =\"pastel\", edgecolor=(0,0,0)) \n",
    "plt.title(\"Candidate Education Count\",fontsize=25)\n",
    "plt.ylabel('Education', fontsize =18)\n",
    "plt.xlabel('Count', fontsize =18)\n",
    "plt.xticks(fontsize=17,rotation=90)\n",
    "plt.show()\n"
   ]
  },
  {
   "cell_type": "markdown",
   "id": "fa26e07a-65ac-4b55-8ed5-b2c237a12b1b",
   "metadata": {},
   "source": [
    "## 5.Different Constituency and Criminal cases count in 2014 Elections."
   ]
  },
  {
   "cell_type": "code",
   "execution_count": 59,
   "id": "164b3105-95f5-436a-ad57-ccf43158338d",
   "metadata": {},
   "outputs": [],
   "source": [
    "constituency_criminal_cases = candidates_2014.groupby('Constituency')['Criminal Cases'].sum().reset_index()"
   ]
  },
  {
   "cell_type": "code",
   "execution_count": 60,
   "id": "8ea99fe9-51d8-4376-bf11-028eb77f9f3c",
   "metadata": {},
   "outputs": [],
   "source": [
    "constituency_criminal_cases_sorted = constituency_criminal_cases.sort_values(by='Criminal Cases', ascending=False)"
   ]
  },
  {
   "cell_type": "code",
   "execution_count": 61,
   "id": "060913be-84b2-4c70-ba2d-d9339519bb9f",
   "metadata": {},
   "outputs": [
    {
     "data": {
      "text/html": [
       "<div>\n",
       "<style scoped>\n",
       "    .dataframe tbody tr th:only-of-type {\n",
       "        vertical-align: middle;\n",
       "    }\n",
       "\n",
       "    .dataframe tbody tr th {\n",
       "        vertical-align: top;\n",
       "    }\n",
       "\n",
       "    .dataframe thead th {\n",
       "        text-align: right;\n",
       "    }\n",
       "</style>\n",
       "<table border=\"1\" class=\"dataframe\">\n",
       "  <thead>\n",
       "    <tr style=\"text-align: right;\">\n",
       "      <th></th>\n",
       "      <th>Constituency</th>\n",
       "      <th>Criminal Cases</th>\n",
       "    </tr>\n",
       "  </thead>\n",
       "  <tbody>\n",
       "    <tr>\n",
       "      <th>278</th>\n",
       "      <td>KANNIYAKUMARI</td>\n",
       "      <td>403</td>\n",
       "    </tr>\n",
       "    <tr>\n",
       "      <th>526</th>\n",
       "      <td>THOOTHUKKUDI</td>\n",
       "      <td>391</td>\n",
       "    </tr>\n",
       "    <tr>\n",
       "      <th>428</th>\n",
       "      <td>PHULPUR : BYE ELECTION ON 11-03-2018</td>\n",
       "      <td>61</td>\n",
       "    </tr>\n",
       "    <tr>\n",
       "      <th>413</th>\n",
       "      <td>PALAMAU</td>\n",
       "      <td>60</td>\n",
       "    </tr>\n",
       "    <tr>\n",
       "      <th>228</th>\n",
       "      <td>HOWRAH</td>\n",
       "      <td>59</td>\n",
       "    </tr>\n",
       "  </tbody>\n",
       "</table>\n",
       "</div>"
      ],
      "text/plain": [
       "                             Constituency  Criminal Cases\n",
       "278                         KANNIYAKUMARI             403\n",
       "526                          THOOTHUKKUDI             391\n",
       "428  PHULPUR : BYE ELECTION ON 11-03-2018              61\n",
       "413                               PALAMAU              60\n",
       "228                                HOWRAH              59"
      ]
     },
     "execution_count": 61,
     "metadata": {},
     "output_type": "execute_result"
    }
   ],
   "source": [
    "constituency_criminal_cases_sorted.head()"
   ]
  }
 ],
 "metadata": {
  "kernelspec": {
   "display_name": "Python 3 (ipykernel)",
   "language": "python",
   "name": "python3"
  },
  "language_info": {
   "codemirror_mode": {
    "name": "ipython",
    "version": 3
   },
   "file_extension": ".py",
   "mimetype": "text/x-python",
   "name": "python",
   "nbconvert_exporter": "python",
   "pygments_lexer": "ipython3",
   "version": "3.12.7"
  }
 },
 "nbformat": 4,
 "nbformat_minor": 5
}
